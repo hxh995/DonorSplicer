{
 "cells": [
  {
   "cell_type": "code",
   "execution_count": 11,
   "id": "cardiac-economy",
   "metadata": {},
   "outputs": [],
   "source": [
    "import os \n",
    "import pandas as pd\n",
    "from tqdm import tqdm"
   ]
  },
  {
   "cell_type": "code",
   "execution_count": 12,
   "id": "broken-reason",
   "metadata": {},
   "outputs": [],
   "source": [
    "#define a class to deal with the sequence.txt for a list\n",
    "class Seq:\n",
    "    def __init__(self,sequence):\n",
    "        self.ID = sequence.name.split('.')[0];\n",
    "        self.ADS,self.sequence=self.readseq(sequence.path);\n",
    "    #deal with each sequence for a object with ID,ADS,sequence\n",
    "    def readseq(self,readpath):\n",
    "        with open(readpath,'r') as f:\n",
    "            contents=[x.rstrip('\\n') for x in f.readlines()]\n",
    "            ADS=contents[1].split('(')[1].split(')')[0]\n",
    "            sequence=''.join(contents[2:]).lower();#to join the sequence str without ',' and turn str to lower()\n",
    "            return ADS,sequence\n",
    "class Seq_pre:\n",
    "    def __init__(self,sequence_name,dir_path):\n",
    "        self.name=sequence_name;\n",
    "        self.path=os.path.join(dir_path,sequence_name);"
   ]
  },
  {
   "cell_type": "code",
   "execution_count": 13,
   "id": "experimental-essex",
   "metadata": {},
   "outputs": [],
   "source": [
    "def read_sequence(sequence):\n",
    "    return Seq(sequence)\n",
    "    "
   ]
  },
  {
   "cell_type": "code",
   "execution_count": 14,
   "id": "medical-aquarium",
   "metadata": {},
   "outputs": [],
   "source": [
    "def load_sequence(dir):\n",
    "    sequence=[Seq_pre(i,dir) for i in os.listdir(dir) if not i.startswith('.')];\n",
    "    obj_sequence=list(map(read_sequence,sequence));\n",
    "    seq_df=pd.DataFrame([(x.ID,x.ADS,x.sequence) for x in obj_sequence],columns=['ID','ADS','sequence']);\n",
    "    return seq_df;\n"
   ]
  },
  {
   "cell_type": "code",
   "execution_count": 15,
   "id": "weekly-shipping",
   "metadata": {},
   "outputs": [],
   "source": [
    "def replace_base(sequence):\n",
    "    sequence=sequence.replace('a','0').replace('c','1').replace('t','2').replace('g','3');\n",
    "    return sequence;\n",
    "    \n",
    "    "
   ]
  },
  {
   "cell_type": "code",
   "execution_count": null,
   "id": "documentary-duration",
   "metadata": {},
   "outputs": [],
   "source": []
  },
  {
   "cell_type": "code",
   "execution_count": 5,
   "id": "common-egypt",
   "metadata": {},
   "outputs": [
    {
     "ename": "NameError",
     "evalue": "name 'test' is not defined",
     "output_type": "error",
     "traceback": [
      "\u001b[0;31m---------------------------------------------------------------------------\u001b[0m",
      "\u001b[0;31mNameError\u001b[0m                                 Traceback (most recent call last)",
      "\u001b[0;32m<ipython-input-5-0a0264351c70>\u001b[0m in \u001b[0;36m<module>\u001b[0;34m()\u001b[0m\n\u001b[0;32m----> 1\u001b[0;31m \u001b[0mtest\u001b[0m\u001b[0;34m.\u001b[0m\u001b[0msequence\u001b[0m\u001b[0;34m\u001b[0m\u001b[0;34m\u001b[0m\u001b[0m\n\u001b[0m",
      "\u001b[0;31mNameError\u001b[0m: name 'test' is not defined"
     ]
    }
   ],
   "source": []
  },
  {
   "cell_type": "code",
   "execution_count": null,
   "id": "published-privilege",
   "metadata": {},
   "outputs": [],
   "source": []
  }
 ],
 "metadata": {
  "kernelspec": {
   "display_name": "Python 3",
   "language": "python",
   "name": "python3"
  },
  "language_info": {
   "codemirror_mode": {
    "name": "ipython",
    "version": 3
   },
   "file_extension": ".py",
   "mimetype": "text/x-python",
   "name": "python",
   "nbconvert_exporter": "python",
   "pygments_lexer": "ipython3",
   "version": "3.6.13"
  }
 },
 "nbformat": 4,
 "nbformat_minor": 5
}
